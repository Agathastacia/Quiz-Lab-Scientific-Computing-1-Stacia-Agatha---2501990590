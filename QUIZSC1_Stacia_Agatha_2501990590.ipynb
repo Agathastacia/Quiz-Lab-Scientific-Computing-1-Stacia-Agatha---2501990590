{
  "nbformat": 4,
  "nbformat_minor": 0,
  "metadata": {
    "colab": {
      "name": "QUIZSC1 - Stacia Agatha - 2501990590.ipynb",
      "provenance": [],
      "collapsed_sections": [],
      "authorship_tag": "ABX9TyNItvWwUJg2laUTmuP6LySe",
      "include_colab_link": true
    },
    "kernelspec": {
      "name": "python3",
      "display_name": "Python 3"
    },
    "language_info": {
      "name": "python"
    }
  },
  "cells": [
    {
      "cell_type": "markdown",
      "metadata": {
        "id": "view-in-github",
        "colab_type": "text"
      },
      "source": [
        "<a href=\"https://colab.research.google.com/github/Agathastacia/Quiz-Lab-Scientific-Computing-1-Stacia-Agatha---2501990590/blob/main/QUIZSC1_Stacia_Agatha_2501990590.ipynb\" target=\"_parent\"><img src=\"https://colab.research.google.com/assets/colab-badge.svg\" alt=\"Open In Colab\"/></a>"
      ]
    },
    {
      "cell_type": "markdown",
      "source": [
        "### Quiz Scientific Computing\n",
        "### Stacia Agatha - 2501990590"
      ],
      "metadata": {
        "id": "GiXX8FWUVje6"
      }
    },
    {
      "cell_type": "code",
      "execution_count": null,
      "metadata": {
        "id": "B9pogI8fP6TG"
      },
      "outputs": [],
      "source": [
        "import numpy as np\n",
        "\n",
        "x=np.array([0.1, 0.3, 0.5, 0.7, 0.9, 1.1, 1.3])\n",
        "y=np.array([0.003, 0.067, 0.148, 0.248, 0.370, 0.518, 0.697])\n",
        "value = 0.58\n",
        "n=7\n",
        "p=np.zeros([n, n+1])"
      ]
    },
    {
      "cell_type": "code",
      "source": [
        "for i in range(n):\n",
        "        p[i,0]=x[i]\n",
        "        p[i,1]=y[i]"
      ],
      "metadata": {
        "id": "ku_veP81QZEg"
      },
      "execution_count": null,
      "outputs": []
    },
    {
      "cell_type": "code",
      "source": [
        "for i in range(2,n+1):\n",
        "  for j in range(n+1-i):\n",
        "    p[j,i]=(p[j+1,i-1]-p[j,i-1])/(x[j+i-1]-x[j])"
      ],
      "metadata": {
        "id": "ZFgXx6E7QqWD"
      },
      "execution_count": null,
      "outputs": []
    },
    {
      "cell_type": "code",
      "source": [
        "b=p[0][1:]\n",
        "print(\"b =\",b)\n",
        "lst=[]\n",
        "t=1"
      ],
      "metadata": {
        "colab": {
          "base_uri": "https://localhost:8080/"
        },
        "id": "iyAGGmT6RO6U",
        "outputId": "05b22377-c2c4-4398-8cf4-b3e96a513aa1"
      },
      "execution_count": null,
      "outputs": [
        {
          "output_type": "stream",
          "name": "stdout",
          "text": [
            "b = [ 3.00000000e-03  3.20000000e-01  2.12500000e-01  4.16666667e-02\n",
            "  2.60416667e-02  9.48893741e-15 -1.41293227e-14]\n"
          ]
        }
      ]
    },
    {
      "cell_type": "code",
      "source": [
        "for i in range(len(x)):\n",
        "    t*=(value-x[i])\n",
        "    lst.append(t)"
      ],
      "metadata": {
        "id": "j_uWsvxnTSCk"
      },
      "execution_count": null,
      "outputs": []
    },
    {
      "cell_type": "code",
      "source": [
        "f=b[0]\n",
        "for k in range(1,len(b)):\n",
        "    f+=b[k]*lst[k-1]\n",
        "print(\"The Value of polynomial is :\",\"%.6f\"%f)"
      ],
      "metadata": {
        "colab": {
          "base_uri": "https://localhost:8080/"
        },
        "id": "V8ZpkvoETudM",
        "outputId": "38c658c1-0fbd-409f-849b-95f64f1ba0ff"
      },
      "execution_count": null,
      "outputs": [
        {
          "output_type": "stream",
          "name": "stdout",
          "text": [
            "The Value of polynomial is : 0.185574\n"
          ]
        }
      ]
    }
  ]
}