{
  "nbformat": 4,
  "nbformat_minor": 0,
  "metadata": {
    "colab": {
      "name": "QUIZSC2 - Stacia Agatha - 2501990590.ipynb",
      "provenance": [],
      "authorship_tag": "ABX9TyNgwQ9o9CXb05ww6zD6knyz",
      "include_colab_link": true
    },
    "kernelspec": {
      "name": "python3",
      "display_name": "Python 3"
    },
    "language_info": {
      "name": "python"
    }
  },
  "cells": [
    {
      "cell_type": "markdown",
      "metadata": {
        "id": "view-in-github",
        "colab_type": "text"
      },
      "source": [
        "<a href=\"https://colab.research.google.com/github/Agathastacia/Quiz-Lab-Scientific-Computing-1-Stacia-Agatha---2501990590/blob/main/QUIZSC2_Stacia_Agatha_2501990590.ipynb\" target=\"_parent\"><img src=\"https://colab.research.google.com/assets/colab-badge.svg\" alt=\"Open In Colab\"/></a>"
      ]
    },
    {
      "cell_type": "markdown",
      "source": [
        "### Quiz Scientific Computing NO 2 dan NO 3\n",
        "### Stacia Agatha - 2501990590"
      ],
      "metadata": {
        "id": "1AvzVcZ-_VIh"
      }
    },
    {
      "cell_type": "code",
      "execution_count": 6,
      "metadata": {
        "colab": {
          "base_uri": "https://localhost:8080/"
        },
        "id": "VogD0rx-5tDN",
        "outputId": "6173c540-ab78-4d82-d22d-067580777fa5"
      },
      "outputs": [
        {
          "output_type": "execute_result",
          "data": {
            "text/plain": [
              "LinearRegression()"
            ]
          },
          "metadata": {},
          "execution_count": 6
        }
      ],
      "source": [
        "import numpy as np\n",
        "from sklearn.linear_model import LinearRegression\n",
        "\n",
        "x=np.array([[0.1], [0.3], [0.5], [0.7], [0.9], [1.1], [1.3]])\n",
        "y=np.array([0.003, 0.067, 0.148, 0.248, 0.370, 0.518, 0.697])\n",
        "\n",
        "\n",
        "regr = LinearRegression()\n",
        "regr.fit (x, y)"
      ]
    },
    {
      "cell_type": "code",
      "source": [
        "print('Coefficients: ', regr.coef_)\n",
        "print('Intercept: ', regr.intercept_)"
      ],
      "metadata": {
        "colab": {
          "base_uri": "https://localhost:8080/"
        },
        "id": "BINJxji1-zJC",
        "outputId": "0f1415ce-df9b-46c9-88b9-bc4e9bccd279"
      },
      "execution_count": 7,
      "outputs": [
        {
          "output_type": "stream",
          "name": "stdout",
          "text": [
            "Coefficients:  [0.5725]\n",
            "Intercept:  -0.1077499999999999\n"
          ]
        }
      ]
    },
    {
      "cell_type": "markdown",
      "source": [
        "## Cara kedua "
      ],
      "metadata": {
        "id": "XxORGWgCqC1o"
      }
    },
    {
      "cell_type": "code",
      "source": [
        "import matplotlib.pyplot as plt\n",
        "from scipy import stats"
      ],
      "metadata": {
        "id": "UFKa-CW89qhN"
      },
      "execution_count": 1,
      "outputs": []
    },
    {
      "cell_type": "code",
      "source": [
        "x = [0.1, 0.3, 0.5, 0.7, 0.9, 1.1, 1.3]\n",
        "y = [0.003, 0.067, 0.148, 0.248, 0.370, 0.518, 0.697]\n",
        "val = [0 for i in range(0,7)]\n",
        "val = [0 for j in range(0,7)]\n",
        "\n",
        "#x^3+2x-y\n",
        "\n",
        "for i in range(0,7):\n",
        "  val[i] = pow(x[i], 3)+2*x[i]-y[i]\n",
        "print(\"I :\\n\")\n",
        "print(\" x\\t  y\\t  f(x)\\n\")\n",
        "for i in range(0,7):\n",
        "  print(x[i], \"\\t\",y[i],\"\\t\", round(val[i],4),\"\\n\")\n",
        "\n",
        "# 2x*y\n",
        "\n",
        "for j in range(0,7):\n",
        "  val[j] = 2*x[j]*y[j]\n",
        "print(\"J :\\n\")\n",
        "print(\" x\\t  y\\t  f(x)\\n\")\n",
        "for j in range(0,7):\n",
        "  print(x[j], \"\\t\",y[j],\"\\t\", round(val[j],4),\"\\n\")\n",
        "\n"
      ],
      "metadata": {
        "colab": {
          "base_uri": "https://localhost:8080/"
        },
        "id": "5HBVTgafqfWI",
        "outputId": "6831815d-a41b-4e30-a693-d1136458c9e3"
      },
      "execution_count": 15,
      "outputs": [
        {
          "output_type": "stream",
          "name": "stdout",
          "text": [
            "I :\n",
            "\n",
            " x\t  y\t  f(x)\n",
            "\n",
            "0.1 \t 0.003 \t 0.198 \n",
            "\n",
            "0.3 \t 0.067 \t 0.56 \n",
            "\n",
            "0.5 \t 0.148 \t 0.977 \n",
            "\n",
            "0.7 \t 0.248 \t 1.495 \n",
            "\n",
            "0.9 \t 0.37 \t 2.159 \n",
            "\n",
            "1.1 \t 0.518 \t 3.013 \n",
            "\n",
            "1.3 \t 0.697 \t 4.1 \n",
            "\n",
            "J :\n",
            "\n",
            " x\t  y\t  f(x)\n",
            "\n",
            "0.1 \t 0.003 \t 0.0006 \n",
            "\n",
            "0.3 \t 0.067 \t 0.0402 \n",
            "\n",
            "0.5 \t 0.148 \t 0.148 \n",
            "\n",
            "0.7 \t 0.248 \t 0.3472 \n",
            "\n",
            "0.9 \t 0.37 \t 0.666 \n",
            "\n",
            "1.1 \t 0.518 \t 1.1396 \n",
            "\n",
            "1.3 \t 0.697 \t 1.8122 \n",
            "\n"
          ]
        }
      ]
    },
    {
      "cell_type": "code",
      "source": [
        "slope, intercept, r, p, str_err = stats.linregress(x,y)\n",
        "\n",
        "def myfunc(x):\n",
        "  return slope*x + intercept\n",
        "\n",
        "mymodel = list(map(myfunc, x))\n",
        "\n",
        "plt.scatter(x, y)\n",
        "plt.plot(x, mymodel)\n",
        "plt.show()\n"
      ],
      "metadata": {
        "colab": {
          "base_uri": "https://localhost:8080/",
          "height": 265
        },
        "id": "N7CMDnX9CP_v",
        "outputId": "960ad405-6a09-4e09-fed6-943e0d595d2c"
      },
      "execution_count": 17,
      "outputs": [
        {
          "output_type": "display_data",
          "data": {
            "text/plain": [
              "<Figure size 432x288 with 1 Axes>"
            ],
            "image/png": "[encoded data removed]"
          },
          "metadata": {
            "needs_background": "light"
          }
        }
      ]
    }
  ]
}